{
 "cells": [
  {
   "cell_type": "code",
   "execution_count": 1,
   "id": "268f2207-9b30-48bd-bc00-cee288eba514",
   "metadata": {},
   "outputs": [
    {
     "name": "stdout",
     "output_type": "stream",
     "text": [
      "True\n",
      "False\n",
      "True\n",
      "False\n"
     ]
    }
   ],
   "source": [
    "def cek_angka(a, b, c):\n",
    "    if a == b or a == c or b == c:\n",
    "        return False\n",
    "    elif a + b == c or a + c == b or b + c == a:\n",
    "        return True\n",
    "    else:\n",
    "        return False\n",
    "        \n",
    "print(cek_angka(2, 3, 1))  \n",
    "print(cek_angka(4, 5, 3))  \n",
    "print(cek_angka(5, 3, 2))  \n",
    "print(cek_angka(1, 4, 2)) "
   ]
  },
  {
   "cell_type": "code",
   "execution_count": 2,
   "id": "54f379e1-f470-4c24-85e6-6fe8d9e8c258",
   "metadata": {},
   "outputs": [
    {
     "name": "stdin",
     "output_type": "stream",
     "text": [
      "Masukkan angka pertama:  30\n",
      "Masukkan angka kedua:  20\n",
      "Masukkan angka ketiga:  18\n"
     ]
    },
    {
     "name": "stdout",
     "output_type": "stream",
     "text": [
      "Hasil: True\n"
     ]
    }
   ],
   "source": [
    "def cek_digit_belakang(a, b, c):\n",
    "    digit_a = a % 10\n",
    "    digit_b = b % 10\n",
    "    digit_c = c % 10\n",
    "    \n",
    "    return (digit_a == digit_b) or (digit_a == digit_c) or (digit_b == digit_c)\n",
    "\n",
    "try:\n",
    "    a = int(input(\"Masukkan angka pertama: \"))\n",
    "    b = int(input(\"Masukkan angka kedua: \"))\n",
    "    c = int(input(\"Masukkan angka ketiga: \"))\n",
    "    \n",
    "    hasil = cek_digit_belakang(a, b, c)\n",
    "    print(\"Hasil:\", hasil)\n",
    "except ValueError:\n",
    "    print(\"Input harus berupa angka bulat.\")"
   ]
  },
  {
   "cell_type": "code",
   "execution_count": 3,
   "id": "af89db19-5243-40d8-b860-bc7f7896519e",
   "metadata": {},
   "outputs": [
    {
     "name": "stdin",
     "output_type": "stream",
     "text": [
      "Masukkan angka pertama:  71\n",
      "Masukkan angka kedua:  187\n",
      "Masukkan angka ketiga:  18\n"
     ]
    },
    {
     "name": "stdout",
     "output_type": "stream",
     "text": [
      "Hasil: False\n"
     ]
    }
   ],
   "source": [
    "def cek_digit_belakang(a, b, c):\n",
    "    digit_a = a % 10\n",
    "    digit_b = b % 10\n",
    "    digit_c = c % 10\n",
    "    \n",
    "    return (digit_a == digit_b) or (digit_a == digit_c) or (digit_b == digit_c)\n",
    "\n",
    "try:\n",
    "    a = int(input(\"Masukkan angka pertama: \"))\n",
    "    b = int(input(\"Masukkan angka kedua: \"))\n",
    "    c = int(input(\"Masukkan angka ketiga: \"))\n",
    "    \n",
    "    hasil = cek_digit_belakang(a, b, c)\n",
    "    print(\"Hasil:\", hasil)\n",
    "except ValueError:\n",
    "    print(\"Input harus berupa angka bulat.\")"
   ]
  },
  {
   "cell_type": "code",
   "execution_count": 4,
   "id": "e182e14a-4c77-45e9-8d26-894384c716ad",
   "metadata": {},
   "outputs": [
    {
     "name": "stdout",
     "output_type": "stream",
     "text": [
      "Input C = 100. Output F = 212.0\n",
      "Input C = 80. Output R = 64.0\n",
      "Input C = 0. Output F = 32.0\n"
     ]
    }
   ],
   "source": [
    "celcius_to_fahrenheit = lambda C: (9/5) * C + 32\n",
    "celcius_to_reamur = lambda C: 0.8 * C\n",
    "\n",
    "print(f\"Input C = 100. Output F = {celcius_to_fahrenheit(100)}\")\n",
    "print(f\"Input C = 80. Output R = {celcius_to_reamur(80)}\")\n",
    "print(f\"Input C = 0. Output F = {celcius_to_fahrenheit(0)}\") "
   ]
  }
 ],
 "metadata": {
  "kernelspec": {
   "display_name": "Python 3 (ipykernel)",
   "language": "python",
   "name": "python3"
  },
  "language_info": {
   "codemirror_mode": {
    "name": "ipython",
    "version": 3
   },
   "file_extension": ".py",
   "mimetype": "text/x-python",
   "name": "python",
   "nbconvert_exporter": "python",
   "pygments_lexer": "ipython3",
   "version": "3.12.7"
  }
 },
 "nbformat": 4,
 "nbformat_minor": 5
}
